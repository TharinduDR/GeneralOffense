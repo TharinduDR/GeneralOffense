{
 "cells": [
  {
   "cell_type": "code",
   "execution_count": 4,
   "metadata": {
    "collapsed": true
   },
   "outputs": [
    {
     "data": {
      "text/plain": "                                                Text Class\n0  Hurray, saving us $$$ in so many ways @potus @...   OFF\n1  Why would young fighting age men be the vast m...   OFF\n2  @KamalaHarris Illegals Dump their Kids at the ...   OFF\n3  NY Times: 'Nearly All White' States Pose 'an A...   NOT\n4  Orban in Brussels: European leaders are ignori...   NOT\n5  @KurtSchlichter LEGAL is. Not illegal. #BuildT...   OFF\n6  @RitaPanahi @826Maureen @RealCandaceO Antifa a...   NOT\n7  Ex-Teacher Pleads Not guilty To Rape Charges h...   NOT\n8  still places on our Bengali (Sylheti) class! i...   NOT\n9  DFID Africa Regional Profile: July 2018 https:...   NOT",
      "text/html": "<div>\n<style scoped>\n    .dataframe tbody tr th:only-of-type {\n        vertical-align: middle;\n    }\n\n    .dataframe tbody tr th {\n        vertical-align: top;\n    }\n\n    .dataframe thead th {\n        text-align: right;\n    }\n</style>\n<table border=\"1\" class=\"dataframe\">\n  <thead>\n    <tr style=\"text-align: right;\">\n      <th></th>\n      <th>Text</th>\n      <th>Class</th>\n    </tr>\n  </thead>\n  <tbody>\n    <tr>\n      <th>0</th>\n      <td>Hurray, saving us $$$ in so many ways @potus @...</td>\n      <td>OFF</td>\n    </tr>\n    <tr>\n      <th>1</th>\n      <td>Why would young fighting age men be the vast m...</td>\n      <td>OFF</td>\n    </tr>\n    <tr>\n      <th>2</th>\n      <td>@KamalaHarris Illegals Dump their Kids at the ...</td>\n      <td>OFF</td>\n    </tr>\n    <tr>\n      <th>3</th>\n      <td>NY Times: 'Nearly All White' States Pose 'an A...</td>\n      <td>NOT</td>\n    </tr>\n    <tr>\n      <th>4</th>\n      <td>Orban in Brussels: European leaders are ignori...</td>\n      <td>NOT</td>\n    </tr>\n    <tr>\n      <th>5</th>\n      <td>@KurtSchlichter LEGAL is. Not illegal. #BuildT...</td>\n      <td>OFF</td>\n    </tr>\n    <tr>\n      <th>6</th>\n      <td>@RitaPanahi @826Maureen @RealCandaceO Antifa a...</td>\n      <td>NOT</td>\n    </tr>\n    <tr>\n      <th>7</th>\n      <td>Ex-Teacher Pleads Not guilty To Rape Charges h...</td>\n      <td>NOT</td>\n    </tr>\n    <tr>\n      <th>8</th>\n      <td>still places on our Bengali (Sylheti) class! i...</td>\n      <td>NOT</td>\n    </tr>\n    <tr>\n      <th>9</th>\n      <td>DFID Africa Regional Profile: July 2018 https:...</td>\n      <td>NOT</td>\n    </tr>\n  </tbody>\n</table>\n</div>"
     },
     "execution_count": 4,
     "metadata": {},
     "output_type": "execute_result"
    }
   ],
   "source": [
    "import pandas as pd\n",
    "\n",
    "train = pd.read_csv(\"original_data/hateval2019_en_train.csv\")\n",
    "\n",
    "train = train[[\"text\", \"HS\"]]\n",
    "\n",
    "train = train.rename(columns={'text': 'Text', 'HS': 'Class'})\n",
    "train['Class'] = train['Class'].map({1:\"OFF\", 0: \"NOT\"})\n",
    "\n",
    "train[:10]"
   ]
  },
  {
   "cell_type": "code",
   "execution_count": 5,
   "outputs": [
    {
     "data": {
      "text/plain": "                                                Text Class\n0  @local1025 @njdotcom @GovMurphy Oh, I could ha...   NOT\n1  Several of the wild fires in #california and #...   NOT\n2  @JudicialWatch My question is how do you reset...   NOT\n3  #Europe, you've got a problem!   We must hurry...   OFF\n4  This is outrageous! #StopIllegalImmigration  #...   OFF\n5  Must read.  Its like looking into the future h...   NOT\n6  \"GET this WORSE THAN SCUM OUT OF OUR COUNTRY! ...   OFF\n7  @Jim_Jordan @SenateMajLdr @HouseGOP @freedomca...   OFF\n8  These savages invade Our Country, disrupt citi...   OFF\n9  Wake up #America! ! We are currently giving ou...   OFF",
      "text/html": "<div>\n<style scoped>\n    .dataframe tbody tr th:only-of-type {\n        vertical-align: middle;\n    }\n\n    .dataframe tbody tr th {\n        vertical-align: top;\n    }\n\n    .dataframe thead th {\n        text-align: right;\n    }\n</style>\n<table border=\"1\" class=\"dataframe\">\n  <thead>\n    <tr style=\"text-align: right;\">\n      <th></th>\n      <th>Text</th>\n      <th>Class</th>\n    </tr>\n  </thead>\n  <tbody>\n    <tr>\n      <th>0</th>\n      <td>@local1025 @njdotcom @GovMurphy Oh, I could ha...</td>\n      <td>NOT</td>\n    </tr>\n    <tr>\n      <th>1</th>\n      <td>Several of the wild fires in #california and #...</td>\n      <td>NOT</td>\n    </tr>\n    <tr>\n      <th>2</th>\n      <td>@JudicialWatch My question is how do you reset...</td>\n      <td>NOT</td>\n    </tr>\n    <tr>\n      <th>3</th>\n      <td>#Europe, you've got a problem!   We must hurry...</td>\n      <td>OFF</td>\n    </tr>\n    <tr>\n      <th>4</th>\n      <td>This is outrageous! #StopIllegalImmigration  #...</td>\n      <td>OFF</td>\n    </tr>\n    <tr>\n      <th>5</th>\n      <td>Must read.  Its like looking into the future h...</td>\n      <td>NOT</td>\n    </tr>\n    <tr>\n      <th>6</th>\n      <td>\"GET this WORSE THAN SCUM OUT OF OUR COUNTRY! ...</td>\n      <td>OFF</td>\n    </tr>\n    <tr>\n      <th>7</th>\n      <td>@Jim_Jordan @SenateMajLdr @HouseGOP @freedomca...</td>\n      <td>OFF</td>\n    </tr>\n    <tr>\n      <th>8</th>\n      <td>These savages invade Our Country, disrupt citi...</td>\n      <td>OFF</td>\n    </tr>\n    <tr>\n      <th>9</th>\n      <td>Wake up #America! ! We are currently giving ou...</td>\n      <td>OFF</td>\n    </tr>\n  </tbody>\n</table>\n</div>"
     },
     "execution_count": 5,
     "metadata": {},
     "output_type": "execute_result"
    }
   ],
   "source": [
    "\n",
    "test = pd.read_csv(\"original_data/hateval2019_en_test.csv\")\n",
    "\n",
    "test = test[[\"text\", \"HS\"]]\n",
    "\n",
    "test = test.rename(columns={'text': 'Text', 'HS': 'Class'})\n",
    "test['Class'] = test['Class'].map({1:\"OFF\", 0: \"NOT\"})\n",
    "\n",
    "test[:10]"
   ],
   "metadata": {
    "collapsed": false,
    "pycharm": {
     "name": "#%%\n"
    }
   }
  },
  {
   "cell_type": "code",
   "execution_count": 6,
   "outputs": [],
   "source": [
    "train.to_csv('hateval_train.csv',index=False, sep=\"\\t\")\n",
    "test.to_csv('hateval_test.csv',index=False, sep=\"\\t\")\n"
   ],
   "metadata": {
    "collapsed": false,
    "pycharm": {
     "name": "#%%\n"
    }
   }
  },
  {
   "cell_type": "code",
   "execution_count": 7,
   "outputs": [
    {
     "data": {
      "text/plain": "NOT    5217\nOFF    3783\nName: Class, dtype: int64"
     },
     "execution_count": 7,
     "metadata": {},
     "output_type": "execute_result"
    }
   ],
   "source": [
    "train['Class'].value_counts()"
   ],
   "metadata": {
    "collapsed": false,
    "pycharm": {
     "name": "#%%\n"
    }
   }
  },
  {
   "cell_type": "code",
   "execution_count": 8,
   "outputs": [
    {
     "data": {
      "text/plain": "NOT    1740\nOFF    1260\nName: Class, dtype: int64"
     },
     "execution_count": 8,
     "metadata": {},
     "output_type": "execute_result"
    }
   ],
   "source": [
    "test['Class'].value_counts()"
   ],
   "metadata": {
    "collapsed": false,
    "pycharm": {
     "name": "#%%\n"
    }
   }
  }
 ],
 "metadata": {
  "kernelspec": {
   "display_name": "Python 3",
   "language": "python",
   "name": "python3"
  },
  "language_info": {
   "codemirror_mode": {
    "name": "ipython",
    "version": 2
   },
   "file_extension": ".py",
   "mimetype": "text/x-python",
   "name": "python",
   "nbconvert_exporter": "python",
   "pygments_lexer": "ipython2",
   "version": "2.7.6"
  }
 },
 "nbformat": 4,
 "nbformat_minor": 0
}