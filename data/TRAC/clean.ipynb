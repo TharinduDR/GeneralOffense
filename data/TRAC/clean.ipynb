{
 "cells": [
  {
   "cell_type": "code",
   "execution_count": 16,
   "metadata": {
    "collapsed": true
   },
   "outputs": [
    {
     "data": {
      "text/plain": "                                                Text Class\n0                                          Next part   NOT\n1                 Iii8mllllllm\\nMdxfvb8o90lplppi0005   NOT\n2  🤣🤣😂😂🤣🤣🤣😂osm vedio ....keep it up...make more v...   NOT\n3  What the fuck was this? I respect shwetabh and...   NOT\n4  Concerned authorities should bring arundathi R...   NOT\n5  It seems like these people want to be famous n...   NOT\n6                      Best topic for Law Students !   NOT\n7  Even when kabir singh was unaware that Preeti ...   OFF\n8                                     She is wrong .   NOT\n9                                         6001733614   NOT",
      "text/html": "<div>\n<style scoped>\n    .dataframe tbody tr th:only-of-type {\n        vertical-align: middle;\n    }\n\n    .dataframe tbody tr th {\n        vertical-align: top;\n    }\n\n    .dataframe thead th {\n        text-align: right;\n    }\n</style>\n<table border=\"1\" class=\"dataframe\">\n  <thead>\n    <tr style=\"text-align: right;\">\n      <th></th>\n      <th>Text</th>\n      <th>Class</th>\n    </tr>\n  </thead>\n  <tbody>\n    <tr>\n      <th>0</th>\n      <td>Next part</td>\n      <td>NOT</td>\n    </tr>\n    <tr>\n      <th>1</th>\n      <td>Iii8mllllllm\\nMdxfvb8o90lplppi0005</td>\n      <td>NOT</td>\n    </tr>\n    <tr>\n      <th>2</th>\n      <td>🤣🤣😂😂🤣🤣🤣😂osm vedio ....keep it up...make more v...</td>\n      <td>NOT</td>\n    </tr>\n    <tr>\n      <th>3</th>\n      <td>What the fuck was this? I respect shwetabh and...</td>\n      <td>NOT</td>\n    </tr>\n    <tr>\n      <th>4</th>\n      <td>Concerned authorities should bring arundathi R...</td>\n      <td>NOT</td>\n    </tr>\n    <tr>\n      <th>5</th>\n      <td>It seems like these people want to be famous n...</td>\n      <td>NOT</td>\n    </tr>\n    <tr>\n      <th>6</th>\n      <td>Best topic for Law Students !</td>\n      <td>NOT</td>\n    </tr>\n    <tr>\n      <th>7</th>\n      <td>Even when kabir singh was unaware that Preeti ...</td>\n      <td>OFF</td>\n    </tr>\n    <tr>\n      <th>8</th>\n      <td>She is wrong .</td>\n      <td>NOT</td>\n    </tr>\n    <tr>\n      <th>9</th>\n      <td>6001733614</td>\n      <td>NOT</td>\n    </tr>\n  </tbody>\n</table>\n</div>"
     },
     "execution_count": 16,
     "metadata": {},
     "output_type": "execute_result"
    }
   ],
   "source": [
    "import pandas as pd\n",
    "\n",
    "train = pd.read_csv(\"original_data/trac2_eng_train.csv\")\n",
    "\n",
    "#\n",
    "#\n",
    "train = train.rename(columns={'Sub-task A': 'Class'})\n",
    "train = train[[\"Text\", \"Class\"]]\n",
    "train['Class'] = train['Class'].map({\"NAG\":\"NOT\", \"CAG\": \"OFF\", \"OAG\":\"OFF\"})\n",
    "\n",
    "train = train[train['Text'].notna()]\n",
    "train['count'] = train['Text'].str.split().str.len()\n",
    "train = train[train[\"count\"] != 0]\n",
    "train = train[[\"Text\", \"Class\"]]\n",
    "train[:10]"
   ]
  },
  {
   "cell_type": "code",
   "execution_count": 17,
   "outputs": [
    {
     "data": {
      "text/plain": "                                                Text Class\n0        https://www.youtube.com/watch?v=4iejjszkflo   NOT\n1  shame on society & culture trying to justify t...   NOT\n2  just wanna say, there is no gay gene. you can ...   NOT\n3  well, if a one twin struggles with self confid...   NOT\n4  i am an identical twin and we are both homosex...   NOT\n5  god wouldn't have said homosexuality is an abo...   NOT\n6  for lack of a better statement then i must say...   NOT\n7  just imagine if this world has gays that love ...   NOT\n8                     demons and devils aren't real.   NOT\n9  no gay gene discovered recently. this man was ...   NOT",
      "text/html": "<div>\n<style scoped>\n    .dataframe tbody tr th:only-of-type {\n        vertical-align: middle;\n    }\n\n    .dataframe tbody tr th {\n        vertical-align: top;\n    }\n\n    .dataframe thead th {\n        text-align: right;\n    }\n</style>\n<table border=\"1\" class=\"dataframe\">\n  <thead>\n    <tr style=\"text-align: right;\">\n      <th></th>\n      <th>Text</th>\n      <th>Class</th>\n    </tr>\n  </thead>\n  <tbody>\n    <tr>\n      <th>0</th>\n      <td>https://www.youtube.com/watch?v=4iejjszkflo</td>\n      <td>NOT</td>\n    </tr>\n    <tr>\n      <th>1</th>\n      <td>shame on society &amp; culture trying to justify t...</td>\n      <td>NOT</td>\n    </tr>\n    <tr>\n      <th>2</th>\n      <td>just wanna say, there is no gay gene. you can ...</td>\n      <td>NOT</td>\n    </tr>\n    <tr>\n      <th>3</th>\n      <td>well, if a one twin struggles with self confid...</td>\n      <td>NOT</td>\n    </tr>\n    <tr>\n      <th>4</th>\n      <td>i am an identical twin and we are both homosex...</td>\n      <td>NOT</td>\n    </tr>\n    <tr>\n      <th>5</th>\n      <td>god wouldn't have said homosexuality is an abo...</td>\n      <td>NOT</td>\n    </tr>\n    <tr>\n      <th>6</th>\n      <td>for lack of a better statement then i must say...</td>\n      <td>NOT</td>\n    </tr>\n    <tr>\n      <th>7</th>\n      <td>just imagine if this world has gays that love ...</td>\n      <td>NOT</td>\n    </tr>\n    <tr>\n      <th>8</th>\n      <td>demons and devils aren't real.</td>\n      <td>NOT</td>\n    </tr>\n    <tr>\n      <th>9</th>\n      <td>no gay gene discovered recently. this man was ...</td>\n      <td>NOT</td>\n    </tr>\n  </tbody>\n</table>\n</div>"
     },
     "execution_count": 17,
     "metadata": {},
     "output_type": "execute_result"
    }
   ],
   "source": [
    "test = pd.read_csv(\"original_data/trac2_eng_test.csv\")\n",
    "labels = pd.read_csv(\"original_data/trac2_eng_gold_a.csv\")\n",
    "#\n",
    "test['Class'] = labels['Sub-task A'].to_numpy()\n",
    "test = test[[\"Text\", \"Class\"]]\n",
    "test['Class'] = test['Class'].map({\"NAG\":\"NOT\", \"CAG\": \"OFF\", \"OAG\":\"OFF\"})\n",
    "\n",
    "test = test[test['Text'].notna()]\n",
    "test['count'] = test['Text'].str.split().str.len()\n",
    "test = test[test[\"count\"] != 0]\n",
    "test = test[[\"Text\", \"Class\"]]\n",
    "test[:10]"
   ],
   "metadata": {
    "collapsed": false,
    "pycharm": {
     "name": "#%%\n"
    }
   }
  },
  {
   "cell_type": "code",
   "execution_count": 18,
   "outputs": [],
   "source": [
    "train.to_csv('trac_train.csv',index=False, sep=\"\\t\")\n",
    "test.to_csv('trac_test.csv',index=False, sep=\"\\t\")\n"
   ],
   "metadata": {
    "collapsed": false,
    "pycharm": {
     "name": "#%%\n"
    }
   }
  },
  {
   "cell_type": "code",
   "execution_count": 19,
   "outputs": [
    {
     "data": {
      "text/plain": "NOT    3375\nOFF     888\nName: Class, dtype: int64"
     },
     "execution_count": 19,
     "metadata": {},
     "output_type": "execute_result"
    }
   ],
   "source": [
    "train['Class'].value_counts()"
   ],
   "metadata": {
    "collapsed": false,
    "pycharm": {
     "name": "#%%\n"
    }
   }
  },
  {
   "cell_type": "code",
   "execution_count": 20,
   "outputs": [
    {
     "data": {
      "text/plain": "NOT    690\nOFF    510\nName: Class, dtype: int64"
     },
     "execution_count": 20,
     "metadata": {},
     "output_type": "execute_result"
    }
   ],
   "source": [
    "test['Class'].value_counts()"
   ],
   "metadata": {
    "collapsed": false,
    "pycharm": {
     "name": "#%%\n"
    }
   }
  }
 ],
 "metadata": {
  "kernelspec": {
   "display_name": "Python 3",
   "language": "python",
   "name": "python3"
  },
  "language_info": {
   "codemirror_mode": {
    "name": "ipython",
    "version": 2
   },
   "file_extension": ".py",
   "mimetype": "text/x-python",
   "name": "python",
   "nbconvert_exporter": "python",
   "pygments_lexer": "ipython2",
   "version": "2.7.6"
  }
 },
 "nbformat": 4,
 "nbformat_minor": 0
}