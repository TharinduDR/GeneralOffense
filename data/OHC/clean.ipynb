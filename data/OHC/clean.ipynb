{
 "cells": [
  {
   "cell_type": "code",
   "execution_count": 23,
   "metadata": {
    "collapsed": true
   },
   "outputs": [],
   "source": [
    "import pandas as pd\n",
    "from sklearn.model_selection import train_test_split"
   ]
  },
  {
   "cell_type": "code",
   "execution_count": 24,
   "outputs": [
    {
     "data": {
      "text/plain": "                                                Text Class\n0    yall hear sumn  mean live small town rn work...   OFF\n1   japanes arent retard know fiction charact are...   OFF\n2   fuck women get entitl attitud  deserv everyth...   OFF\n3   listen word articl aka hit piec entir word wa...   OFF\n4   hate see inexperienc cop work man love watch ...   NOT\n5    bottl hot dog water hot dog includ gwyneth p...   OFF\n6   love reader comment bleed idiot toe parti lin...   OFF\n7   ill agre rick coupl peopl know say hes one fa...   OFF\n8   gotta love cultur divers huh  \\tin iron twist...   OFF\n9   sad attempt wash singer remain relev  ill giv...   OFF",
      "text/html": "<div>\n<style scoped>\n    .dataframe tbody tr th:only-of-type {\n        vertical-align: middle;\n    }\n\n    .dataframe tbody tr th {\n        vertical-align: top;\n    }\n\n    .dataframe thead th {\n        text-align: right;\n    }\n</style>\n<table border=\"1\" class=\"dataframe\">\n  <thead>\n    <tr style=\"text-align: right;\">\n      <th></th>\n      <th>Text</th>\n      <th>Class</th>\n    </tr>\n  </thead>\n  <tbody>\n    <tr>\n      <th>0</th>\n      <td>yall hear sumn  mean live small town rn work...</td>\n      <td>OFF</td>\n    </tr>\n    <tr>\n      <th>1</th>\n      <td>japanes arent retard know fiction charact are...</td>\n      <td>OFF</td>\n    </tr>\n    <tr>\n      <th>2</th>\n      <td>fuck women get entitl attitud  deserv everyth...</td>\n      <td>OFF</td>\n    </tr>\n    <tr>\n      <th>3</th>\n      <td>listen word articl aka hit piec entir word wa...</td>\n      <td>OFF</td>\n    </tr>\n    <tr>\n      <th>4</th>\n      <td>hate see inexperienc cop work man love watch ...</td>\n      <td>NOT</td>\n    </tr>\n    <tr>\n      <th>5</th>\n      <td>bottl hot dog water hot dog includ gwyneth p...</td>\n      <td>OFF</td>\n    </tr>\n    <tr>\n      <th>6</th>\n      <td>love reader comment bleed idiot toe parti lin...</td>\n      <td>OFF</td>\n    </tr>\n    <tr>\n      <th>7</th>\n      <td>ill agre rick coupl peopl know say hes one fa...</td>\n      <td>OFF</td>\n    </tr>\n    <tr>\n      <th>8</th>\n      <td>gotta love cultur divers huh  \\tin iron twist...</td>\n      <td>OFF</td>\n    </tr>\n    <tr>\n      <th>9</th>\n      <td>sad attempt wash singer remain relev  ill giv...</td>\n      <td>OFF</td>\n    </tr>\n  </tbody>\n</table>\n</div>"
     },
     "execution_count": 24,
     "metadata": {},
     "output_type": "execute_result"
    }
   ],
   "source": [
    "data = pd.read_csv(\"original_data/reddit.csv\")\n",
    "\n",
    "\n",
    "data[:10]"
   ],
   "metadata": {
    "collapsed": false,
    "pycharm": {
     "name": "#%%\n"
    }
   }
  },
  {
   "cell_type": "code",
   "execution_count": 25,
   "outputs": [],
   "source": [
    "train, test = train_test_split(data, test_size=0.2, random_state=777)\n",
    "\n",
    "train = train[train['Text'].notna()]\n",
    "train['count'] = train['Text'].str.split().str.len()\n",
    "train = train[train[\"count\"] != 0]\n",
    "train = train[[\"Text\", \"Class\"]]\n",
    "\n",
    "test = test[test['Text'].notna()]\n",
    "test['count'] = test['Text'].str.split().str.len()\n",
    "test = test[test[\"count\"] != 0]\n",
    "test = test[[\"Text\", \"Class\"]]\n",
    "\n",
    "train.to_csv('ohc_train.csv',index=False, sep=\"\\t\")\n",
    "test.to_csv('ohc_test.csv',index=False, sep=\"\\t\")"
   ],
   "metadata": {
    "collapsed": false,
    "pycharm": {
     "name": "#%%\n"
    }
   }
  },
  {
   "cell_type": "code",
   "execution_count": 26,
   "outputs": [
    {
     "data": {
      "text/plain": "NOT    6504\nOFF    1781\nName: Class, dtype: int64"
     },
     "execution_count": 26,
     "metadata": {},
     "output_type": "execute_result"
    }
   ],
   "source": [
    "train['Class'].value_counts()"
   ],
   "metadata": {
    "collapsed": false,
    "pycharm": {
     "name": "#%%\n"
    }
   }
  },
  {
   "cell_type": "code",
   "execution_count": 27,
   "outputs": [
    {
     "data": {
      "text/plain": "NOT    1665\nOFF     425\nName: Class, dtype: int64"
     },
     "execution_count": 27,
     "metadata": {},
     "output_type": "execute_result"
    }
   ],
   "source": [
    "test['Class'].value_counts()\n"
   ],
   "metadata": {
    "collapsed": false,
    "pycharm": {
     "name": "#%%\n"
    }
   }
  }
 ],
 "metadata": {
  "kernelspec": {
   "display_name": "Python 3",
   "language": "python",
   "name": "python3"
  },
  "language_info": {
   "codemirror_mode": {
    "name": "ipython",
    "version": 2
   },
   "file_extension": ".py",
   "mimetype": "text/x-python",
   "name": "python",
   "nbconvert_exporter": "python",
   "pygments_lexer": "ipython2",
   "version": "2.7.6"
  }
 },
 "nbformat": 4,
 "nbformat_minor": 0
}