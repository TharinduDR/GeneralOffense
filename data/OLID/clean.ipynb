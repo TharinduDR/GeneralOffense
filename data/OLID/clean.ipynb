{
 "cells": [
  {
   "cell_type": "code",
   "execution_count": 3,
   "metadata": {
    "collapsed": true
   },
   "outputs": [
    {
     "data": {
      "text/plain": "                                                Text Class\n0  @USER She should ask a few native Americans wh...   OFF\n1  @USER @USER Go home you’re drunk!!! @USER #MAG...   OFF\n2  Amazon is investigating Chinese employees who ...   NOT\n3  @USER Someone should'veTaken\" this piece of sh...   OFF\n4  @USER @USER Obama wanted liberals &amp; illega...   NOT\n5                  @USER Liberals are all Kookoo !!!   OFF\n6                   @USER @USER Oh noes! Tough shit.   OFF\n7  @USER was literally just talking about this lo...   OFF\n8                         @USER Buy more icecream!!!   NOT\n9  @USER Canada doesn’t need another CUCK! We alr...   OFF",
      "text/html": "<div>\n<style scoped>\n    .dataframe tbody tr th:only-of-type {\n        vertical-align: middle;\n    }\n\n    .dataframe tbody tr th {\n        vertical-align: top;\n    }\n\n    .dataframe thead th {\n        text-align: right;\n    }\n</style>\n<table border=\"1\" class=\"dataframe\">\n  <thead>\n    <tr style=\"text-align: right;\">\n      <th></th>\n      <th>Text</th>\n      <th>Class</th>\n    </tr>\n  </thead>\n  <tbody>\n    <tr>\n      <th>0</th>\n      <td>@USER She should ask a few native Americans wh...</td>\n      <td>OFF</td>\n    </tr>\n    <tr>\n      <th>1</th>\n      <td>@USER @USER Go home you’re drunk!!! @USER #MAG...</td>\n      <td>OFF</td>\n    </tr>\n    <tr>\n      <th>2</th>\n      <td>Amazon is investigating Chinese employees who ...</td>\n      <td>NOT</td>\n    </tr>\n    <tr>\n      <th>3</th>\n      <td>@USER Someone should'veTaken\" this piece of sh...</td>\n      <td>OFF</td>\n    </tr>\n    <tr>\n      <th>4</th>\n      <td>@USER @USER Obama wanted liberals &amp;amp; illega...</td>\n      <td>NOT</td>\n    </tr>\n    <tr>\n      <th>5</th>\n      <td>@USER Liberals are all Kookoo !!!</td>\n      <td>OFF</td>\n    </tr>\n    <tr>\n      <th>6</th>\n      <td>@USER @USER Oh noes! Tough shit.</td>\n      <td>OFF</td>\n    </tr>\n    <tr>\n      <th>7</th>\n      <td>@USER was literally just talking about this lo...</td>\n      <td>OFF</td>\n    </tr>\n    <tr>\n      <th>8</th>\n      <td>@USER Buy more icecream!!!</td>\n      <td>NOT</td>\n    </tr>\n    <tr>\n      <th>9</th>\n      <td>@USER Canada doesn’t need another CUCK! We alr...</td>\n      <td>OFF</td>\n    </tr>\n  </tbody>\n</table>\n</div>"
     },
     "execution_count": 3,
     "metadata": {},
     "output_type": "execute_result"
    }
   ],
   "source": [
    "import pandas as pd\n",
    "\n",
    "train = pd.read_csv(\"original_data/olid-training-v1.0.tsv\", sep=\"\\t\")\n",
    "\n",
    "train = train[[\"tweet\", \"subtask_a\"]]\n",
    "\n",
    "train = train.rename(columns={'tweet': 'Text', 'subtask_a': 'Class'})\n",
    "\n",
    "train[:10]"
   ]
  },
  {
   "cell_type": "code",
   "execution_count": 14,
   "outputs": [
    {
     "data": {
      "text/plain": "                                                Text Class\n0  #WhoIsQ #WheresTheServer #DumpNike #DECLASFISA...   OFF\n1  #ConstitutionDay is revered by Conservatives, ...   NOT\n2  #FOXNews #NRA #MAGA #POTUS #TRUMP #2ndAmendmen...   NOT\n3  #Watching #Boomer getting the news that she is...   NOT\n4  #NoPasaran: Unity demo to oppose the far-right...   OFF\n5           . . . What the fuck did he do this time?   OFF\n6  #RAP is a form of ART! Used to express yoursel...   NOT\n7  @USER Do you get the feeling he is kissing @US...   OFF\n8  5 Tips to Enhance Audience Connection on Faceb...   NOT\n9  #BiggBossTamil janani won the task. She is goi...   NOT",
      "text/html": "<div>\n<style scoped>\n    .dataframe tbody tr th:only-of-type {\n        vertical-align: middle;\n    }\n\n    .dataframe tbody tr th {\n        vertical-align: top;\n    }\n\n    .dataframe thead th {\n        text-align: right;\n    }\n</style>\n<table border=\"1\" class=\"dataframe\">\n  <thead>\n    <tr style=\"text-align: right;\">\n      <th></th>\n      <th>Text</th>\n      <th>Class</th>\n    </tr>\n  </thead>\n  <tbody>\n    <tr>\n      <th>0</th>\n      <td>#WhoIsQ #WheresTheServer #DumpNike #DECLASFISA...</td>\n      <td>OFF</td>\n    </tr>\n    <tr>\n      <th>1</th>\n      <td>#ConstitutionDay is revered by Conservatives, ...</td>\n      <td>NOT</td>\n    </tr>\n    <tr>\n      <th>2</th>\n      <td>#FOXNews #NRA #MAGA #POTUS #TRUMP #2ndAmendmen...</td>\n      <td>NOT</td>\n    </tr>\n    <tr>\n      <th>3</th>\n      <td>#Watching #Boomer getting the news that she is...</td>\n      <td>NOT</td>\n    </tr>\n    <tr>\n      <th>4</th>\n      <td>#NoPasaran: Unity demo to oppose the far-right...</td>\n      <td>OFF</td>\n    </tr>\n    <tr>\n      <th>5</th>\n      <td>. . . What the fuck did he do this time?</td>\n      <td>OFF</td>\n    </tr>\n    <tr>\n      <th>6</th>\n      <td>#RAP is a form of ART! Used to express yoursel...</td>\n      <td>NOT</td>\n    </tr>\n    <tr>\n      <th>7</th>\n      <td>@USER Do you get the feeling he is kissing @US...</td>\n      <td>OFF</td>\n    </tr>\n    <tr>\n      <th>8</th>\n      <td>5 Tips to Enhance Audience Connection on Faceb...</td>\n      <td>NOT</td>\n    </tr>\n    <tr>\n      <th>9</th>\n      <td>#BiggBossTamil janani won the task. She is goi...</td>\n      <td>NOT</td>\n    </tr>\n  </tbody>\n</table>\n</div>"
     },
     "execution_count": 14,
     "metadata": {},
     "output_type": "execute_result"
    }
   ],
   "source": [
    "test = pd.read_csv(\"original_data/testset-levela.tsv\", sep=\"\\t\")\n",
    "labels = pd.read_csv(\"original_data/labels-levela.csv\", names=[\"id\", \"labels\"])\n",
    "\n",
    "test['Class'] = labels['labels'].to_numpy()\n",
    "test = test[[\"tweet\", \"Class\"]]\n",
    "test = test.rename(columns={'tweet': 'Text'})\n",
    "test[:10]"
   ],
   "metadata": {
    "collapsed": false,
    "pycharm": {
     "name": "#%%\n"
    }
   }
  },
  {
   "cell_type": "code",
   "execution_count": 15,
   "outputs": [],
   "source": [
    "train.to_csv('olid_train.csv',index=False, sep=\"\\t\")\n",
    "test.to_csv('olid_test.csv',index=False, sep=\"\\t\")\n"
   ],
   "metadata": {
    "collapsed": false,
    "pycharm": {
     "name": "#%%\n"
    }
   }
  }
 ],
 "metadata": {
  "kernelspec": {
   "display_name": "Python 3",
   "language": "python",
   "name": "python3"
  },
  "language_info": {
   "codemirror_mode": {
    "name": "ipython",
    "version": 2
   },
   "file_extension": ".py",
   "mimetype": "text/x-python",
   "name": "python",
   "nbconvert_exporter": "python",
   "pygments_lexer": "ipython2",
   "version": "2.7.6"
  }
 },
 "nbformat": 4,
 "nbformat_minor": 0
}