{
 "cells": [
  {
   "cell_type": "code",
   "execution_count": 3,
   "metadata": {
    "collapsed": true
   },
   "outputs": [],
   "source": [
    "import pandas as pd\n",
    "from sklearn.model_selection import train_test_split"
   ]
  },
  {
   "cell_type": "code",
   "execution_count": 4,
   "outputs": [
    {
     "data": {
      "text/plain": "                                                Text Class\n0  west bengal doctor crisi protest doctor agre m...   NOT\n1   million peopl forc leav home      read   refu...   NOT\n2                     came saw  look fort good luck    NOT\n3  well get brexit deliv octob     help build mov...   NOT\n4  fuck go back dark age cow ibnliverealtim rape ...   OFF\n5  bori johnson face suprem court bid make stand ...   NOT\n6  refund serv halala muslim regular ad onion jai...   NOT\n7       general elect dup dump tori power weaken way   NOT\n8  repost freewick  â€¢ â€¢ â€¢ â€¢ â€¢ â€¢  free...   NOT\n9  jesus christ christian news illuminati chang b...   OFF",
      "text/html": "<div>\n<style scoped>\n    .dataframe tbody tr th:only-of-type {\n        vertical-align: middle;\n    }\n\n    .dataframe tbody tr th {\n        vertical-align: top;\n    }\n\n    .dataframe thead th {\n        text-align: right;\n    }\n</style>\n<table border=\"1\" class=\"dataframe\">\n  <thead>\n    <tr style=\"text-align: right;\">\n      <th></th>\n      <th>Text</th>\n      <th>Class</th>\n    </tr>\n  </thead>\n  <tbody>\n    <tr>\n      <th>0</th>\n      <td>west bengal doctor crisi protest doctor agre m...</td>\n      <td>NOT</td>\n    </tr>\n    <tr>\n      <th>1</th>\n      <td>million peopl forc leav home      read   refu...</td>\n      <td>NOT</td>\n    </tr>\n    <tr>\n      <th>2</th>\n      <td>came saw  look fort good luck</td>\n      <td>NOT</td>\n    </tr>\n    <tr>\n      <th>3</th>\n      <td>well get brexit deliv octob     help build mov...</td>\n      <td>NOT</td>\n    </tr>\n    <tr>\n      <th>4</th>\n      <td>fuck go back dark age cow ibnliverealtim rape ...</td>\n      <td>OFF</td>\n    </tr>\n    <tr>\n      <th>5</th>\n      <td>bori johnson face suprem court bid make stand ...</td>\n      <td>NOT</td>\n    </tr>\n    <tr>\n      <th>6</th>\n      <td>refund serv halala muslim regular ad onion jai...</td>\n      <td>NOT</td>\n    </tr>\n    <tr>\n      <th>7</th>\n      <td>general elect dup dump tori power weaken way</td>\n      <td>NOT</td>\n    </tr>\n    <tr>\n      <th>8</th>\n      <td>repost freewick  â€¢ â€¢ â€¢ â€¢ â€¢ â€¢  free...</td>\n      <td>NOT</td>\n    </tr>\n    <tr>\n      <th>9</th>\n      <td>jesus christ christian news illuminati chang b...</td>\n      <td>OFF</td>\n    </tr>\n  </tbody>\n</table>\n</div>"
     },
     "execution_count": 4,
     "metadata": {},
     "output_type": "execute_result"
    }
   ],
   "source": [
    "data = pd.read_csv(\"original_data/hasoc.csv\")\n",
    "\n",
    "\n",
    "data = data[[\"Text\", \"Class\"]]\n",
    "data[:10]"
   ],
   "metadata": {
    "collapsed": false,
    "pycharm": {
     "name": "#%%\n"
    }
   }
  },
  {
   "cell_type": "code",
   "execution_count": 5,
   "outputs": [],
   "source": [
    "train, test = train_test_split(data, test_size=0.2, random_state=777)\n",
    "\n",
    "train.to_csv('hasoc_train.csv',index=False, sep=\"\\t\")\n",
    "test.to_csv('hasoc_test.csv',index=False, sep=\"\\t\")"
   ],
   "metadata": {
    "collapsed": false,
    "pycharm": {
     "name": "#%%\n"
    }
   }
  },
  {
   "cell_type": "code",
   "execution_count": 6,
   "outputs": [
    {
     "data": {
      "text/plain": "NOT    3554\nOFF    2050\nName: Class, dtype: int64"
     },
     "execution_count": 6,
     "metadata": {},
     "output_type": "execute_result"
    }
   ],
   "source": [
    "train['Class'].value_counts()"
   ],
   "metadata": {
    "collapsed": false,
    "pycharm": {
     "name": "#%%\n"
    }
   }
  },
  {
   "cell_type": "code",
   "execution_count": 7,
   "outputs": [
    {
     "data": {
      "text/plain": "NOT    902\nOFF    499\nName: Class, dtype: int64"
     },
     "execution_count": 7,
     "metadata": {},
     "output_type": "execute_result"
    }
   ],
   "source": [
    "test['Class'].value_counts()\n"
   ],
   "metadata": {
    "collapsed": false,
    "pycharm": {
     "name": "#%%\n"
    }
   }
  }
 ],
 "metadata": {
  "kernelspec": {
   "display_name": "Python 3",
   "language": "python",
   "name": "python3"
  },
  "language_info": {
   "codemirror_mode": {
    "name": "ipython",
    "version": 2
   },
   "file_extension": ".py",
   "mimetype": "text/x-python",
   "name": "python",
   "nbconvert_exporter": "python",
   "pygments_lexer": "ipython2",
   "version": "2.7.6"
  }
 },
 "nbformat": 4,
 "nbformat_minor": 0
}