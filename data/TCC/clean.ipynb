{
 "cells": [
  {
   "cell_type": "code",
   "execution_count": 16,
   "metadata": {
    "collapsed": true
   },
   "outputs": [],
   "source": [
    "import pandas as pd\n",
    "from sklearn.model_selection import train_test_split"
   ]
  },
  {
   "cell_type": "code",
   "execution_count": 17,
   "outputs": [
    {
     "data": {
      "text/plain": "                                                Text Class\n0  Explanation\\nWhy the edits made under my usern...   NOT\n1  D'aww! He matches this background colour I'm s...   NOT\n2  Hey man, I'm really not trying to edit war. It...   NOT\n3  \"\\nMore\\nI can't make any real suggestions on ...   NOT\n4  You, sir, are my hero. Any chance you remember...   NOT\n5  \"\\n\\nCongratulations from me as well, use the ...   NOT\n6       COCKSUCKER BEFORE YOU PISS AROUND ON MY WORK   OFF\n7  Your vandalism to the Matt Shirvington article...   NOT\n8  Sorry if the word 'nonsense' was offensive to ...   NOT\n9  alignment on this subject and which are contra...   NOT",
      "text/html": "<div>\n<style scoped>\n    .dataframe tbody tr th:only-of-type {\n        vertical-align: middle;\n    }\n\n    .dataframe tbody tr th {\n        vertical-align: top;\n    }\n\n    .dataframe thead th {\n        text-align: right;\n    }\n</style>\n<table border=\"1\" class=\"dataframe\">\n  <thead>\n    <tr style=\"text-align: right;\">\n      <th></th>\n      <th>Text</th>\n      <th>Class</th>\n    </tr>\n  </thead>\n  <tbody>\n    <tr>\n      <th>0</th>\n      <td>Explanation\\nWhy the edits made under my usern...</td>\n      <td>NOT</td>\n    </tr>\n    <tr>\n      <th>1</th>\n      <td>D'aww! He matches this background colour I'm s...</td>\n      <td>NOT</td>\n    </tr>\n    <tr>\n      <th>2</th>\n      <td>Hey man, I'm really not trying to edit war. It...</td>\n      <td>NOT</td>\n    </tr>\n    <tr>\n      <th>3</th>\n      <td>\"\\nMore\\nI can't make any real suggestions on ...</td>\n      <td>NOT</td>\n    </tr>\n    <tr>\n      <th>4</th>\n      <td>You, sir, are my hero. Any chance you remember...</td>\n      <td>NOT</td>\n    </tr>\n    <tr>\n      <th>5</th>\n      <td>\"\\n\\nCongratulations from me as well, use the ...</td>\n      <td>NOT</td>\n    </tr>\n    <tr>\n      <th>6</th>\n      <td>COCKSUCKER BEFORE YOU PISS AROUND ON MY WORK</td>\n      <td>OFF</td>\n    </tr>\n    <tr>\n      <th>7</th>\n      <td>Your vandalism to the Matt Shirvington article...</td>\n      <td>NOT</td>\n    </tr>\n    <tr>\n      <th>8</th>\n      <td>Sorry if the word 'nonsense' was offensive to ...</td>\n      <td>NOT</td>\n    </tr>\n    <tr>\n      <th>9</th>\n      <td>alignment on this subject and which are contra...</td>\n      <td>NOT</td>\n    </tr>\n  </tbody>\n</table>\n</div>"
     },
     "execution_count": 17,
     "metadata": {},
     "output_type": "execute_result"
    }
   ],
   "source": [
    "data = pd.read_csv(\"original_data/train.csv\")\n",
    "\n",
    "\n",
    "data = data[[\"comment_text\", \"toxic\"]]\n",
    "\n",
    "data['toxic'] = data['toxic'].map({1:\"OFF\", 0: \"NOT\"})\n",
    "data = data.rename(columns={'comment_text': 'Text', 'toxic': 'Class'})\n",
    "data[:10]"
   ],
   "metadata": {
    "collapsed": false,
    "pycharm": {
     "name": "#%%\n"
    }
   }
  },
  {
   "cell_type": "code",
   "execution_count": 18,
   "outputs": [],
   "source": [
    "train, test = train_test_split(data, test_size=0.2, random_state=777)\n",
    "\n",
    "train = train[train['Text'].notna()]\n",
    "train['count'] = train['Text'].str.split().str.len()\n",
    "train = train[train[\"count\"] != 0]\n",
    "train = train[[\"Text\", \"Class\"]]\n",
    "train = train.sample(12000)\n",
    "\n",
    "test = test[test['Text'].notna()]\n",
    "test['count'] = test['Text'].str.split().str.len()\n",
    "test = test[test[\"count\"] != 0]\n",
    "test = test[[\"Text\", \"Class\"]]\n",
    "test = test.sample(2500)\n",
    "\n",
    "\n",
    "train.to_csv('tcc_train.csv',index=False, sep=\"\\t\")\n",
    "test.to_csv('tcc_test.csv',index=False, sep=\"\\t\")"
   ],
   "metadata": {
    "collapsed": false,
    "pycharm": {
     "name": "#%%\n"
    }
   }
  },
  {
   "cell_type": "code",
   "execution_count": 19,
   "outputs": [
    {
     "data": {
      "text/plain": "NOT    10863\nOFF     1137\nName: Class, dtype: int64"
     },
     "execution_count": 19,
     "metadata": {},
     "output_type": "execute_result"
    }
   ],
   "source": [
    "train['Class'].value_counts()"
   ],
   "metadata": {
    "collapsed": false,
    "pycharm": {
     "name": "#%%\n"
    }
   }
  },
  {
   "cell_type": "code",
   "execution_count": 20,
   "outputs": [
    {
     "data": {
      "text/plain": "NOT    2235\nOFF     265\nName: Class, dtype: int64"
     },
     "execution_count": 20,
     "metadata": {},
     "output_type": "execute_result"
    }
   ],
   "source": [
    "test['Class'].value_counts()\n"
   ],
   "metadata": {
    "collapsed": false,
    "pycharm": {
     "name": "#%%\n"
    }
   }
  }
 ],
 "metadata": {
  "kernelspec": {
   "display_name": "Python 3",
   "language": "python",
   "name": "python3"
  },
  "language_info": {
   "codemirror_mode": {
    "name": "ipython",
    "version": 2
   },
   "file_extension": ".py",
   "mimetype": "text/x-python",
   "name": "python",
   "nbconvert_exporter": "python",
   "pygments_lexer": "ipython2",
   "version": "2.7.6"
  }
 },
 "nbformat": 4,
 "nbformat_minor": 0
}