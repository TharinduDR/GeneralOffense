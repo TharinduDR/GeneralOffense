{
 "cells": [
  {
   "cell_type": "code",
   "execution_count": 36,
   "metadata": {
    "collapsed": true
   },
   "outputs": [
    {
     "data": {
      "text/plain": "                                                Text Class\n0  <number> of pakistani are married to a 1 st co...   OFF\n1  todd phillips i have run out of context and co...   NOT\n2  4 chan humour a mexican and a nigger arr in a ...   OFF\n3  i am much higher time preference on this issue...   OFF\n4  <user> reminds me vaguely of the netflix movie...   NOT\n5  the most radical plans for reconstruction whic...   OFF\n6    <user> when you been eating too many nazi cakes   NOT\n7  if in <number> the man i believe to be a crimi...   NOT\n8  settlement and its naturalization then condi t...   NOT\n9  are you seriously backing that lil spic fag fu...   OFF",
      "text/html": "<div>\n<style scoped>\n    .dataframe tbody tr th:only-of-type {\n        vertical-align: middle;\n    }\n\n    .dataframe tbody tr th {\n        vertical-align: top;\n    }\n\n    .dataframe thead th {\n        text-align: right;\n    }\n</style>\n<table border=\"1\" class=\"dataframe\">\n  <thead>\n    <tr style=\"text-align: right;\">\n      <th></th>\n      <th>Text</th>\n      <th>Class</th>\n    </tr>\n  </thead>\n  <tbody>\n    <tr>\n      <th>0</th>\n      <td>&lt;number&gt; of pakistani are married to a 1 st co...</td>\n      <td>OFF</td>\n    </tr>\n    <tr>\n      <th>1</th>\n      <td>todd phillips i have run out of context and co...</td>\n      <td>NOT</td>\n    </tr>\n    <tr>\n      <th>2</th>\n      <td>4 chan humour a mexican and a nigger arr in a ...</td>\n      <td>OFF</td>\n    </tr>\n    <tr>\n      <th>3</th>\n      <td>i am much higher time preference on this issue...</td>\n      <td>OFF</td>\n    </tr>\n    <tr>\n      <th>4</th>\n      <td>&lt;user&gt; reminds me vaguely of the netflix movie...</td>\n      <td>NOT</td>\n    </tr>\n    <tr>\n      <th>5</th>\n      <td>the most radical plans for reconstruction whic...</td>\n      <td>OFF</td>\n    </tr>\n    <tr>\n      <th>6</th>\n      <td>&lt;user&gt; when you been eating too many nazi cakes</td>\n      <td>NOT</td>\n    </tr>\n    <tr>\n      <th>7</th>\n      <td>if in &lt;number&gt; the man i believe to be a crimi...</td>\n      <td>NOT</td>\n    </tr>\n    <tr>\n      <th>8</th>\n      <td>settlement and its naturalization then condi t...</td>\n      <td>NOT</td>\n    </tr>\n    <tr>\n      <th>9</th>\n      <td>are you seriously backing that lil spic fag fu...</td>\n      <td>OFF</td>\n    </tr>\n  </tbody>\n</table>\n</div>"
     },
     "execution_count": 36,
     "metadata": {},
     "output_type": "execute_result"
    }
   ],
   "source": [
    "import pandas as pd\n",
    "\n",
    "train = pd.read_csv(\"original_data/hatexplain_train.csv\")\n",
    "\n",
    "train = train[[\"post_tokens\", \"post_label\"]]\n",
    "\n",
    "def concatanate(words):\n",
    "    words = words[1:-1]\n",
    "    words = words.split(\",\")\n",
    "    sentence = words[0][1:-1]\n",
    "    for word in words[1:]:\n",
    "        word = word[2:-1]\n",
    "        sentence = sentence + \" \" + word\n",
    "\n",
    "    return sentence\n",
    "\n",
    "train['Text']=train['post_tokens'].apply(concatanate)\n",
    "\n",
    "train = train.rename(columns={'post_label': 'Class'})\n",
    "train['Class'] = train['Class'].map({\"hatespeech\":\"OFF\", \"normal\": \"NOT\", \"offensive\":\"OFF\"})\n",
    "train = train[[\"Text\", \"Class\"]]\n",
    "\n",
    "train = train[train['Text'].notna()]\n",
    "train['count'] = train['Text'].str.split().str.len()\n",
    "train = train[train[\"count\"] != 0]\n",
    "train = train[[\"Text\", \"Class\"]]\n",
    "train[:10]"
   ]
  },
  {
   "cell_type": "code",
   "execution_count": 37,
   "outputs": [
    {
     "data": {
      "text/plain": "                                                Text Class\n0  a group of zebras claim they witnessed a white...   NOT\n1  yeah becasue you are one of those trailer tras...   OFF\n2  they never fighting outside my apartment wow t...   OFF\n3                   the way i fucking hate my school   OFF\n4  okay back to the road see you tagaytay city wu...   NOT\n5  you conservatis bragg about libtards and they ...   NOT\n6  fearless trump records 2 3 rd stock market hig...   NOT\n7  anyone remotely interested in philosophical th...   OFF\n8  what if the jews who convert to christianity k...   OFF\n9                  poland says no to muzzie invasion   OFF",
      "text/html": "<div>\n<style scoped>\n    .dataframe tbody tr th:only-of-type {\n        vertical-align: middle;\n    }\n\n    .dataframe tbody tr th {\n        vertical-align: top;\n    }\n\n    .dataframe thead th {\n        text-align: right;\n    }\n</style>\n<table border=\"1\" class=\"dataframe\">\n  <thead>\n    <tr style=\"text-align: right;\">\n      <th></th>\n      <th>Text</th>\n      <th>Class</th>\n    </tr>\n  </thead>\n  <tbody>\n    <tr>\n      <th>0</th>\n      <td>a group of zebras claim they witnessed a white...</td>\n      <td>NOT</td>\n    </tr>\n    <tr>\n      <th>1</th>\n      <td>yeah becasue you are one of those trailer tras...</td>\n      <td>OFF</td>\n    </tr>\n    <tr>\n      <th>2</th>\n      <td>they never fighting outside my apartment wow t...</td>\n      <td>OFF</td>\n    </tr>\n    <tr>\n      <th>3</th>\n      <td>the way i fucking hate my school</td>\n      <td>OFF</td>\n    </tr>\n    <tr>\n      <th>4</th>\n      <td>okay back to the road see you tagaytay city wu...</td>\n      <td>NOT</td>\n    </tr>\n    <tr>\n      <th>5</th>\n      <td>you conservatis bragg about libtards and they ...</td>\n      <td>NOT</td>\n    </tr>\n    <tr>\n      <th>6</th>\n      <td>fearless trump records 2 3 rd stock market hig...</td>\n      <td>NOT</td>\n    </tr>\n    <tr>\n      <th>7</th>\n      <td>anyone remotely interested in philosophical th...</td>\n      <td>OFF</td>\n    </tr>\n    <tr>\n      <th>8</th>\n      <td>what if the jews who convert to christianity k...</td>\n      <td>OFF</td>\n    </tr>\n    <tr>\n      <th>9</th>\n      <td>poland says no to muzzie invasion</td>\n      <td>OFF</td>\n    </tr>\n  </tbody>\n</table>\n</div>"
     },
     "execution_count": 37,
     "metadata": {},
     "output_type": "execute_result"
    }
   ],
   "source": [
    "test = pd.read_csv(\"original_data/hatexplain_test.csv\")\n",
    "\n",
    "test = test[[\"post_tokens\", \"post_label\"]]\n",
    "\n",
    "def concatanate(words):\n",
    "    words = words[1:-1]\n",
    "    words = words.split(\",\")\n",
    "    sentence = words[0][1:-1]\n",
    "    for word in words[1:]:\n",
    "        word = word[2:-1]\n",
    "        sentence = sentence + \" \" + word\n",
    "\n",
    "    return sentence\n",
    "\n",
    "test['Text']=test['post_tokens'].apply(concatanate)\n",
    "\n",
    "test = test.rename(columns={'post_label': 'Class'})\n",
    "test['Class'] = test['Class'].map({\"hatespeech\":\"OFF\", \"normal\": \"NOT\", \"offensive\":\"OFF\"})\n",
    "test = test[[\"Text\", \"Class\"]]\n",
    "\n",
    "test = test[test['Text'].notna()]\n",
    "test['count'] = test['Text'].str.split().str.len()\n",
    "test = test[test[\"count\"] != 0]\n",
    "test = test[[\"Text\", \"Class\"]]\n",
    "test[:10]"
   ],
   "metadata": {
    "collapsed": false,
    "pycharm": {
     "name": "#%%\n"
    }
   }
  },
  {
   "cell_type": "code",
   "execution_count": 38,
   "outputs": [],
   "source": [
    "train.to_csv('hatexplain_train.csv',index=False, sep=\"\\t\")\n",
    "test.to_csv('hatexplain_test.csv',index=False, sep=\"\\t\")\n"
   ],
   "metadata": {
    "collapsed": false,
    "pycharm": {
     "name": "#%%\n"
    }
   }
  },
  {
   "cell_type": "code",
   "execution_count": 39,
   "outputs": [
    {
     "data": {
      "text/plain": "OFF    6872\nNOT    4663\nName: Class, dtype: int64"
     },
     "execution_count": 39,
     "metadata": {},
     "output_type": "execute_result"
    }
   ],
   "source": [
    "train['Class'].value_counts()"
   ],
   "metadata": {
    "collapsed": false,
    "pycharm": {
     "name": "#%%\n"
    }
   }
  },
  {
   "cell_type": "code",
   "execution_count": 40,
   "outputs": [
    {
     "data": {
      "text/plain": "OFF    2246\nNOT    1598\nName: Class, dtype: int64"
     },
     "execution_count": 40,
     "metadata": {},
     "output_type": "execute_result"
    }
   ],
   "source": [
    "test['Class'].value_counts()\n"
   ],
   "metadata": {
    "collapsed": false,
    "pycharm": {
     "name": "#%%\n"
    }
   }
  }
 ],
 "metadata": {
  "kernelspec": {
   "display_name": "Python 3",
   "language": "python",
   "name": "python3"
  },
  "language_info": {
   "codemirror_mode": {
    "name": "ipython",
    "version": 2
   },
   "file_extension": ".py",
   "mimetype": "text/x-python",
   "name": "python",
   "nbconvert_exporter": "python",
   "pygments_lexer": "ipython2",
   "version": "2.7.6"
  }
 },
 "nbformat": 4,
 "nbformat_minor": 0
}