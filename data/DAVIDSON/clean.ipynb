{
 "cells": [
  {
   "cell_type": "code",
   "execution_count": 1,
   "metadata": {
    "collapsed": true
   },
   "outputs": [],
   "source": [
    "import pandas as pd\n",
    "from sklearn.model_selection import train_test_split"
   ]
  },
  {
   "cell_type": "code",
   "execution_count": 2,
   "outputs": [
    {
     "data": {
      "text/plain": "                                                Text Class\n0   rt mayasolov woman shouldnt complain clean ho...   NOT\n1   rt  boy dat coldtyga dwn bad cuffin dat hoe  ...   OFF\n2   rt urkindofbrand dawg rt  ever fuck bitch sta...   OFF\n3             rt cganderson vivabas look like tranni   OFF\n4   rt shenikarobert shit hear might true might f...   OFF\n5  tmadisonx shit blow meclaim faith somebodi sti...   OFF\n6  brighterday sit hate anoth bitch  got much shi...   OFF\n7             caus im tire big bitch come us skinni    OFF\n8              amp might get ya bitch back amp that    OFF\n9           rhythmixx hobbi includ fight mariambitch   OFF",
      "text/html": "<div>\n<style scoped>\n    .dataframe tbody tr th:only-of-type {\n        vertical-align: middle;\n    }\n\n    .dataframe tbody tr th {\n        vertical-align: top;\n    }\n\n    .dataframe thead th {\n        text-align: right;\n    }\n</style>\n<table border=\"1\" class=\"dataframe\">\n  <thead>\n    <tr style=\"text-align: right;\">\n      <th></th>\n      <th>Text</th>\n      <th>Class</th>\n    </tr>\n  </thead>\n  <tbody>\n    <tr>\n      <th>0</th>\n      <td>rt mayasolov woman shouldnt complain clean ho...</td>\n      <td>NOT</td>\n    </tr>\n    <tr>\n      <th>1</th>\n      <td>rt  boy dat coldtyga dwn bad cuffin dat hoe  ...</td>\n      <td>OFF</td>\n    </tr>\n    <tr>\n      <th>2</th>\n      <td>rt urkindofbrand dawg rt  ever fuck bitch sta...</td>\n      <td>OFF</td>\n    </tr>\n    <tr>\n      <th>3</th>\n      <td>rt cganderson vivabas look like tranni</td>\n      <td>OFF</td>\n    </tr>\n    <tr>\n      <th>4</th>\n      <td>rt shenikarobert shit hear might true might f...</td>\n      <td>OFF</td>\n    </tr>\n    <tr>\n      <th>5</th>\n      <td>tmadisonx shit blow meclaim faith somebodi sti...</td>\n      <td>OFF</td>\n    </tr>\n    <tr>\n      <th>6</th>\n      <td>brighterday sit hate anoth bitch  got much shi...</td>\n      <td>OFF</td>\n    </tr>\n    <tr>\n      <th>7</th>\n      <td>caus im tire big bitch come us skinni</td>\n      <td>OFF</td>\n    </tr>\n    <tr>\n      <th>8</th>\n      <td>amp might get ya bitch back amp that</td>\n      <td>OFF</td>\n    </tr>\n    <tr>\n      <th>9</th>\n      <td>rhythmixx hobbi includ fight mariambitch</td>\n      <td>OFF</td>\n    </tr>\n  </tbody>\n</table>\n</div>"
     },
     "execution_count": 2,
     "metadata": {},
     "output_type": "execute_result"
    }
   ],
   "source": [
    "data = pd.read_csv(\"original_data/davidson2017.csv\")\n",
    "\n",
    "\n",
    "data = data[[\"Text\", \"Class\"]]\n",
    "data[:10]"
   ],
   "metadata": {
    "collapsed": false,
    "pycharm": {
     "name": "#%%\n"
    }
   }
  },
  {
   "cell_type": "code",
   "execution_count": 3,
   "outputs": [],
   "source": [
    "train, test = train_test_split(data, test_size=0.2, random_state=777)\n",
    "\n",
    "train.to_csv('davidson_train.csv',index=False, sep=\"\\t\")\n",
    "test.to_csv('davidson_test.csv',index=False, sep=\"\\t\")"
   ],
   "metadata": {
    "collapsed": false,
    "pycharm": {
     "name": "#%%\n"
    }
   }
  },
  {
   "cell_type": "code",
   "execution_count": 4,
   "outputs": [
    {
     "data": {
      "text/plain": "OFF    16516\nNOT     3310\nName: Class, dtype: int64"
     },
     "execution_count": 4,
     "metadata": {},
     "output_type": "execute_result"
    }
   ],
   "source": [
    "train['Class'].value_counts()"
   ],
   "metadata": {
    "collapsed": false,
    "pycharm": {
     "name": "#%%\n"
    }
   }
  },
  {
   "cell_type": "code",
   "execution_count": 5,
   "outputs": [
    {
     "data": {
      "text/plain": "OFF    4104\nNOT     853\nName: Class, dtype: int64"
     },
     "execution_count": 5,
     "metadata": {},
     "output_type": "execute_result"
    }
   ],
   "source": [
    "test['Class'].value_counts()"
   ],
   "metadata": {
    "collapsed": false,
    "pycharm": {
     "name": "#%%\n"
    }
   }
  }
 ],
 "metadata": {
  "kernelspec": {
   "display_name": "Python 3",
   "language": "python",
   "name": "python3"
  },
  "language_info": {
   "codemirror_mode": {
    "name": "ipython",
    "version": 2
   },
   "file_extension": ".py",
   "mimetype": "text/x-python",
   "name": "python",
   "nbconvert_exporter": "python",
   "pygments_lexer": "ipython2",
   "version": "2.7.6"
  }
 },
 "nbformat": 4,
 "nbformat_minor": 0
}